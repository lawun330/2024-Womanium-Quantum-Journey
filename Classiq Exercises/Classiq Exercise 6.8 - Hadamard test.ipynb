{
 "cells": [
  {
   "cell_type": "markdown",
   "id": "2cca074c-a3e9-418b-83ad-e1c93fbdeec1",
   "metadata": {},
   "source": [
    "# Hadamard Test with U(Quantum Fourier Transform) on Different Shots\n",
    "by <a href=\"https://www.linkedin.com/in/la-wun-nannda-b047681b5/\">`La Wun Nannda`</a>"
   ]
  },
  {
   "cell_type": "markdown",
   "id": "293c80a7-529e-4894-9313-f33855eb5dfd",
   "metadata": {},
   "source": [
    "## Import Libaries"
   ]
  },
  {
   "cell_type": "code",
   "execution_count": 1,
   "id": "1c624a37-142e-4b8c-8801-ccceeaa108d9",
   "metadata": {},
   "outputs": [],
   "source": [
    "import numpy as np\n",
    "import matplotlib as mpl\n",
    "from matplotlib import pyplot as plt\n",
    "from classiq import *"
   ]
  },
  {
   "cell_type": "code",
   "execution_count": 2,
   "id": "156027b6-002a-4c95-8564-3f891fbcd661",
   "metadata": {},
   "outputs": [
    {
     "name": "stderr",
     "output_type": "stream",
     "text": [
      "C:\\Users\\ASUS\\anaconda3\\envs\\qiskit_env\\Lib\\site-packages\\classiq\\_internals\\authentication\\token_manager.py:99: UserWarning: Device is already registered.\n",
      "Generating a new refresh token should only be done if the current refresh token is compromised.\n",
      "To do so, set the overwrite parameter to true\n",
      "  warnings.warn(\n"
     ]
    }
   ],
   "source": [
    "# initiate a session\n",
    "authenticate()"
   ]
  },
  {
   "cell_type": "markdown",
   "id": "35793584-64cf-4076-832b-2d364fbdfd83",
   "metadata": {},
   "source": [
    "## Hadamard Test with U(QFT) Function"
   ]
  },
  {
   "cell_type": "code",
   "execution_count": 3,
   "id": "ce2ef2bd-80eb-4c00-bf3f-15c464ca51d3",
   "metadata": {},
   "outputs": [],
   "source": [
    "@qfunc\n",
    "def main(expectation_value: Output[QBit]):\n",
    "    # allocate qubits\n",
    "    allocate(1, expectation_value)\n",
    "    psi = QNum(\"psi\")\n",
    "    allocate(4, psi)\n",
    "\n",
    "    # hadamard test circuit\n",
    "    H(expectation_value)\n",
    "    control(ctrl=(expectation_value), operand=lambda: qft(psi)) # QFT implementation\n",
    "    H(expectation_value)"
   ]
  },
  {
   "cell_type": "markdown",
   "id": "b6697a3e-d91d-4c34-bc9c-d8f83d0858c6",
   "metadata": {},
   "source": [
    "## Building, Programming, and Executing a Model"
   ]
  },
  {
   "cell_type": "code",
   "execution_count": 4,
   "id": "ea23f246-8f36-408b-b724-75ff6f1fa775",
   "metadata": {},
   "outputs": [
    {
     "name": "stdout",
     "output_type": "stream",
     "text": [
      "shot: 1000\n",
      "[{'expectation_value': 0.0}: 602, {'expectation_value': 1.0}: 398] \n",
      "\n",
      "shot: 2000\n",
      "[{'expectation_value': 0.0}: 1220, {'expectation_value': 1.0}: 780] \n",
      "\n",
      "shot: 4000\n",
      "[{'expectation_value': 0.0}: 2451, {'expectation_value': 1.0}: 1549] \n",
      "\n",
      "shot: 8000\n",
      "[{'expectation_value': 0.0}: 4959, {'expectation_value': 1.0}: 3041] \n",
      "\n",
      "shot: 16000\n",
      "[{'expectation_value': 0.0}: 9956, {'expectation_value': 1.0}: 6044] \n",
      "\n"
     ]
    }
   ],
   "source": [
    "# create a model\n",
    "quantum_model = create_model(main)\n",
    "\n",
    "# different shots\n",
    "shots = [1000, 2000, 4000, 8000, 16000]\n",
    "\n",
    "# storage for output\n",
    "results = []\n",
    "\n",
    "# execute the model\n",
    "for shot in shots:\n",
    "    print(\"shot:\", shot)\n",
    "    quantum_model_customized = set_execution_preferences(\n",
    "        quantum_model,\n",
    "        execution.ExecutionPreferences(\n",
    "            num_shots=shot, job_name=f\"Hadamard test with {shot} shots\", random_seed=767\n",
    "        ),\n",
    "    )\n",
    "\n",
    "    # synthesize\n",
    "    quantum_program = synthesize(quantum_model_customized)\n",
    "\n",
    "    # execute\n",
    "    job = execute(quantum_program)\n",
    "    result = job.result()[0].value\n",
    "    print(result.parsed_counts,'\\n')\n",
    "    results.append(result.counts)"
   ]
  },
  {
   "cell_type": "code",
   "execution_count": 5,
   "id": "921ec2bf-aaeb-4878-b64d-00481d9e974d",
   "metadata": {},
   "outputs": [
    {
     "data": {
      "text/plain": [
       "[{'1': 398, '0': 602},\n",
       " {'1': 780, '0': 1220},\n",
       " {'0': 2451, '1': 1549},\n",
       " {'1': 3041, '0': 4959},\n",
       " {'1': 6044, '0': 9956}]"
      ]
     },
     "execution_count": 5,
     "metadata": {},
     "output_type": "execute_result"
    }
   ],
   "source": [
    "# check counts\n",
    "results"
   ]
  },
  {
   "cell_type": "markdown",
   "id": "4bd50daf-a3a2-4da9-9569-2cfe900e95e3",
   "metadata": {},
   "source": [
    "## Checking P(0)"
   ]
  },
  {
   "cell_type": "code",
   "execution_count": 6,
   "id": "4bf53d09-2ee0-4eaa-a65e-a381a0554d44",
   "metadata": {},
   "outputs": [],
   "source": [
    "# probability function\n",
    "# P(i) = number of occurrences of 'i'/total possible occurrences\n",
    "def checkP(list_of_counts):\n",
    "    P0 = []\n",
    "    for i in list_of_counts:\n",
    "        print(\"P(0): \",i[str(0)]/(i[str(0)]+i[str(1)]),\", P(1): \",i[str(1)]/(i[str(0)]+i[str(1)]))\n",
    "        P0.append(i[str(0)]/(i[str(0)]+i[str(1)]))\n",
    "    return P0"
   ]
  },
  {
   "cell_type": "code",
   "execution_count": 7,
   "id": "5530e373-2ecf-4bd9-a06e-52efb500ae98",
   "metadata": {},
   "outputs": [
    {
     "name": "stdout",
     "output_type": "stream",
     "text": [
      "P(0):  0.602 , P(1):  0.398\n",
      "P(0):  0.61 , P(1):  0.39\n",
      "P(0):  0.61275 , P(1):  0.38725\n",
      "P(0):  0.619875 , P(1):  0.380125\n",
      "P(0):  0.62225 , P(1):  0.37775\n"
     ]
    }
   ],
   "source": [
    "# check probabilities of zero, P(0), for different shots\n",
    "p = checkP(results)"
   ]
  },
  {
   "cell_type": "markdown",
   "id": "49ce7600-6158-419f-9d95-645583164dd8",
   "metadata": {},
   "source": [
    "## Calculate Re{<0| U<sub>QFT</sub> |0>}\n",
    "- ### Theoretically\n",
    "    Let abbreviate U<sub>QFT</sub> as U. We eliminate complex parts since we are interested in real numbers.\n",
    "\n",
    "    $U|0\\rangle = \\frac{1}{\\sqrt{2^n}}\\sum_{y=0}^{2^n-1}|y\\rangle$\n",
    "\n",
    "    We are using a four-qubit system. So `n=4`.\n",
    "\n",
    "    $U|0000\\rangle = \\frac{1}{\\sqrt{2^4}}\\sum_{y=0}^{2^4-1}|y\\rangle$\n",
    "\n",
    "    $U|0000\\rangle = \\frac{1}{4}\\sum_{y=0}^{15}|y\\rangle$\n",
    "\n",
    "    This can be extended as follows-\n",
    "\n",
    "    $U|0000\\rangle = \\frac{1}{4}(|0000\\rangle+|0001\\rangle+|0010\\rangle+|0011\\rangle+|0100\\rangle+|0101\\rangle+|0110\\rangle+|0111\\rangle+|1000\\rangle+|1001\\rangle+|1010\\rangle+|1011\\rangle+|1100\\rangle+|1101\\rangle+|1110\\rangle+|1111\\rangle)$\n",
    "\n",
    "    For convinence, we will stick with `y`.\n",
    "\n",
    "    $\\langle0000|U|y\\rangle = \\frac{1}{4}\\langle0000|y\\rangle$\n",
    "\n",
    "    While evaluating $\\langle0000|y\\rangle$, anything except `y=0000` results in 0 and $\\langle0000|0000\\rangle = 1$.\n",
    "\n",
    "    $\\langle0000|U|0000\\rangle = \\frac{1}{4} = 0.25$"
   ]
  },
  {
   "cell_type": "markdown",
   "id": "0c0325f2-e20a-47ab-af67-c6abb89ae14a",
   "metadata": {},
   "source": [
    "- ### Experimentally\n",
    "Using the equation: Re {<0| U<sub>QFT</sub> |0>} = 2P<sub>0</sub> - 1"
   ]
  },
  {
   "cell_type": "code",
   "execution_count": 8,
   "id": "54d91004-35a0-4d18-ae81-d4376093a9c6",
   "metadata": {},
   "outputs": [],
   "source": [
    "# function\n",
    "def calculateQFT(probabilities):\n",
    "    answers = [ ]\n",
    "    for i in probabilities:\n",
    "        answers.append((2*i) - 1)\n",
    "    return answers"
   ]
  },
  {
   "cell_type": "code",
   "execution_count": 9,
   "id": "216133dd-9c2c-466c-8859-e6416a6b7499",
   "metadata": {},
   "outputs": [
    {
     "data": {
      "text/plain": [
       "[0.20399999999999996,\n",
       " 0.21999999999999997,\n",
       " 0.22550000000000003,\n",
       " 0.2397499999999999,\n",
       " 0.24449999999999994]"
      ]
     },
     "execution_count": 9,
     "metadata": {},
     "output_type": "execute_result"
    }
   ],
   "source": [
    "# evaluate QFT\n",
    "answers = calculateQFT(p)\n",
    "answers"
   ]
  },
  {
   "cell_type": "markdown",
   "id": "c9ce1189-3b99-429d-893c-0772b470f7b7",
   "metadata": {},
   "source": [
    "## Plotting"
   ]
  },
  {
   "cell_type": "code",
   "execution_count": 10,
   "id": "49461e92-ca28-4885-ae24-c16a358df749",
   "metadata": {
    "scrolled": true
   },
   "outputs": [
    {
     "data": {
      "image/png": "[encoded data removed]",
      "text/plain": [
       "<Figure size 640x480 with 1 Axes>"
      ]
     },
     "metadata": {},
     "output_type": "display_data"
    }
   ],
   "source": [
    "x = shots\n",
    "y1 = answers\n",
    "y2 = [0.25 for i in range(len(y1))]\n",
    "plt.plot(x, y1, 'go-')\n",
    "plt.plot(x, y2, 'r-')\n",
    "plt.legend([\"Experimental values\", \"Theoretical values\"], loc=\"lower right\")\n",
    "plt.xlabel(\"Number of shots\")\n",
    "plt.ylabel(\"Value of Re{<0|QFT|0>}\")\n",
    "plt.show()"
   ]
  },
  {
   "cell_type": "markdown",
   "id": "f5bd83ef-d7c2-4391-bd95-e39c71423b51",
   "metadata": {},
   "source": [
    "# Multiple Executions of H Test and QFT\n",
    "Due to quantum nature, there maybe a slight variation in each execution of a program. Here, we test this by looping an execution for each shot 5 times. This results in a total of 25 executions since there are also 5 shots."
   ]
  },
  {
   "cell_type": "code",
   "execution_count": 11,
   "id": "75ca6da4-c585-402a-bdd4-ff45cc405670",
   "metadata": {},
   "outputs": [
    {
     "name": "stdout",
     "output_type": "stream",
     "text": [
      "shot: 1000\n",
      "shot: 2000\n",
      "shot: 4000\n",
      "shot: 8000\n",
      "shot: 16000\n"
     ]
    }
   ],
   "source": [
    "n = 5 # iterate the process 5 times for each shot\n",
    "\n",
    "# storage for output\n",
    "list_of_results = []\n",
    "\n",
    "# iterate each shot\n",
    "for shot in shots:\n",
    "    results = []\n",
    "    print(\"shot:\", shot)\n",
    "    for i in range(n): # execute 'n' times\n",
    "        # set model\n",
    "        quantum_model_customized = set_execution_preferences(\n",
    "            quantum_model,\n",
    "            execution.ExecutionPreferences(\n",
    "                num_shots=shot, job_name=f\"{shot} shots H test - {n}\", \n",
    "            ),\n",
    "        )\n",
    "        \n",
    "        # synthesize\n",
    "        quantum_program = synthesize(quantum_model_customized)\n",
    "        \n",
    "        # execute\n",
    "        job = execute(quantum_program)\n",
    "        result = job.result()[0].value\n",
    "        results.append(result.counts)\n",
    "    \n",
    "    list_of_results.append(results)"
   ]
  },
  {
   "cell_type": "markdown",
   "id": "577806a6-16cb-44bb-9ad6-683413ab08d3",
   "metadata": {},
   "source": [
    "We can verify the probablistic nature as follows. We can see that within each shot (1000, 2000, 4000, 8000, 16000), there are different outcomes."
   ]
  },
  {
   "cell_type": "code",
   "execution_count": 12,
   "id": "a2fe0886-120a-4213-b72c-ab7dd7616e50",
   "metadata": {},
   "outputs": [
    {
     "data": {
      "text/plain": [
       "[[{'0': 619, '1': 381},\n",
       "  {'0': 650, '1': 350},\n",
       "  {'1': 385, '0': 615},\n",
       "  {'1': 410, '0': 590},\n",
       "  {'1': 379, '0': 621}],\n",
       " [{'0': 1221, '1': 779},\n",
       "  {'1': 754, '0': 1246},\n",
       "  {'1': 720, '0': 1280},\n",
       "  {'0': 1253, '1': 747},\n",
       "  {'1': 785, '0': 1215}],\n",
       " [{'0': 2500, '1': 1500},\n",
       "  {'1': 1515, '0': 2485},\n",
       "  {'1': 1459, '0': 2541},\n",
       "  {'0': 2488, '1': 1512},\n",
       "  {'1': 1526, '0': 2474}],\n",
       " [{'1': 2986, '0': 5014},\n",
       "  {'1': 3053, '0': 4947},\n",
       "  {'1': 3010, '0': 4990},\n",
       "  {'1': 2897, '0': 5103},\n",
       "  {'1': 3065, '0': 4935}],\n",
       " [{'1': 6065, '0': 9935},\n",
       "  {'1': 5918, '0': 10082},\n",
       "  {'1': 6025, '0': 9975},\n",
       "  {'1': 6052, '0': 9948},\n",
       "  {'1': 6016, '0': 9984}]]"
      ]
     },
     "execution_count": 12,
     "metadata": {},
     "output_type": "execute_result"
    }
   ],
   "source": [
    "# check the list containing counts for 5 iterations for each shot (1000, 2000, 4000, 8000, 16000)\n",
    "list_of_results"
   ]
  },
  {
   "cell_type": "code",
   "execution_count": 13,
   "id": "7e77f0dc-da26-4c1a-82ac-3523599a634e",
   "metadata": {},
   "outputs": [
    {
     "name": "stdout",
     "output_type": "stream",
     "text": [
      ">>>shot 1000\n",
      "P(0):  0.619 , P(1):  0.381\n",
      "P(0):  0.65 , P(1):  0.35\n",
      "P(0):  0.615 , P(1):  0.385\n",
      "P(0):  0.59 , P(1):  0.41\n",
      "P(0):  0.621 , P(1):  0.379\n",
      "QFT for shot 1000: [0.238, 0.30000000000000004, 0.22999999999999998, 0.17999999999999994, 0.242]\n",
      "\n",
      ">>>shot 2000\n",
      "P(0):  0.6105 , P(1):  0.3895\n",
      "P(0):  0.623 , P(1):  0.377\n",
      "P(0):  0.64 , P(1):  0.36\n",
      "P(0):  0.6265 , P(1):  0.3735\n",
      "P(0):  0.6075 , P(1):  0.3925\n",
      "QFT for shot 2000: [0.22100000000000009, 0.246, 0.28, 0.2529999999999999, 0.21500000000000008]\n",
      "\n",
      ">>>shot 4000\n",
      "P(0):  0.625 , P(1):  0.375\n",
      "P(0):  0.62125 , P(1):  0.37875\n",
      "P(0):  0.63525 , P(1):  0.36475\n",
      "P(0):  0.622 , P(1):  0.378\n",
      "P(0):  0.6185 , P(1):  0.3815\n",
      "QFT for shot 4000: [0.25, 0.24249999999999994, 0.27049999999999996, 0.244, 0.2370000000000001]\n",
      "\n",
      ">>>shot 8000\n",
      "P(0):  0.62675 , P(1):  0.37325\n",
      "P(0):  0.618375 , P(1):  0.381625\n",
      "P(0):  0.62375 , P(1):  0.37625\n",
      "P(0):  0.637875 , P(1):  0.362125\n",
      "P(0):  0.616875 , P(1):  0.383125\n",
      "QFT for shot 8000: [0.25350000000000006, 0.23675000000000002, 0.24750000000000005, 0.27574999999999994, 0.2337499999999999]\n",
      "\n",
      ">>>shot 16000\n",
      "P(0):  0.6209375 , P(1):  0.3790625\n",
      "P(0):  0.630125 , P(1):  0.369875\n",
      "P(0):  0.6234375 , P(1):  0.3765625\n",
      "P(0):  0.62175 , P(1):  0.37825\n",
      "P(0):  0.624 , P(1):  0.376\n",
      "QFT for shot 16000: [0.24187500000000006, 0.2602500000000001, 0.24687499999999996, 0.24350000000000005, 0.248]\n",
      "\n"
     ]
    }
   ],
   "source": [
    "# convert to probabilities, calculate the final answers, and store\n",
    "total_QFTs = []\n",
    "i = 1000\n",
    "for each_shot in list_of_results:\n",
    "    print(f\">>>shot {i}\")\n",
    "    each_p = checkP(each_shot) # convert counts into probabilities # store only the P(0) for each shot \n",
    "    eachQFT = calculateQFT(each_p) # calculate QFT\n",
    "    print(f\"QFT for shot {i}:\", eachQFT)\n",
    "    total_QFTs.append(eachQFT) # store QFT\n",
    "    i = i*2 # for indexing\n",
    "    print(\"\")"
   ]
  },
  {
   "cell_type": "code",
   "execution_count": 14,
   "id": "36126ea2-a8e7-4ebe-97fc-56fe919ff90b",
   "metadata": {},
   "outputs": [
    {
     "data": {
      "text/plain": [
       "[[0.238, 0.30000000000000004, 0.22999999999999998, 0.17999999999999994, 0.242],\n",
       " [0.22100000000000009, 0.246, 0.28, 0.2529999999999999, 0.21500000000000008],\n",
       " [0.25, 0.24249999999999994, 0.27049999999999996, 0.244, 0.2370000000000001],\n",
       " [0.25350000000000006,\n",
       "  0.23675000000000002,\n",
       "  0.24750000000000005,\n",
       "  0.27574999999999994,\n",
       "  0.2337499999999999],\n",
       " [0.24187500000000006,\n",
       "  0.2602500000000001,\n",
       "  0.24687499999999996,\n",
       "  0.24350000000000005,\n",
       "  0.248]]"
      ]
     },
     "execution_count": 14,
     "metadata": {},
     "output_type": "execute_result"
    }
   ],
   "source": [
    "# check answers\n",
    "total_QFTs"
   ]
  },
  {
   "cell_type": "markdown",
   "id": "727d745c-1d36-499b-b07d-25c1bbe47bd9",
   "metadata": {},
   "source": [
    "## Plotting Multiple Executions"
   ]
  },
  {
   "cell_type": "code",
   "execution_count": 15,
   "id": "a52a770b-244d-4665-ae2c-9239f93e394d",
   "metadata": {},
   "outputs": [
    {
     "data": {
      "text/plain": [
       "[[0.17999999999999994, 0.22999999999999998, 0.238, 0.242, 0.30000000000000004],\n",
       " [0.21500000000000008, 0.22100000000000009, 0.246, 0.2529999999999999, 0.28],\n",
       " [0.2370000000000001, 0.24249999999999994, 0.244, 0.25, 0.27049999999999996],\n",
       " [0.2337499999999999,\n",
       "  0.23675000000000002,\n",
       "  0.24750000000000005,\n",
       "  0.25350000000000006,\n",
       "  0.27574999999999994],\n",
       " [0.24187500000000006,\n",
       "  0.24350000000000005,\n",
       "  0.24687499999999996,\n",
       "  0.248,\n",
       "  0.2602500000000001]]"
      ]
     },
     "execution_count": 15,
     "metadata": {},
     "output_type": "execute_result"
    }
   ],
   "source": [
    "# sort the values in each shot to connect endpoints to draw a vertical line\n",
    "total_QFTs_sorted = []\n",
    "for i in total_QFTs:\n",
    "    total_QFTs_sorted.append(sorted(i))\n",
    "total_QFTs_sorted"
   ]
  },
  {
   "cell_type": "code",
   "execution_count": 16,
   "id": "7bd99034-55ba-4998-a360-0db6c9c8d737",
   "metadata": {},
   "outputs": [
    {
     "data": {
      "image/png": "[encoded data removed]",
      "text/plain": [
       "<Figure size 640x480 with 1 Axes>"
      ]
     },
     "metadata": {},
     "output_type": "display_data"
    }
   ],
   "source": [
    "x = shots\n",
    "y1 = total_QFTs_sorted # use the sorted value\n",
    "y2 = [0.25 for i in range(len(y1))]\n",
    "\n",
    "# zip endpoints to make vertical lines\n",
    "lines = []\n",
    "for i, j in zip(x,y1):\n",
    "    pair = [(i, j[0]), (i, j[-1])]\n",
    "    lines.append(pair)\n",
    "linecoll = mpl.collections.LineCollection(lines, colors=['black','orange', 'green', 'brown', 'blue']) # make different colors for each shot\n",
    "\n",
    "# draw figure\n",
    "fig, ax = plt.subplots()\n",
    "ax.plot(x, y1, 'bo')\n",
    "ax.plot(x, y2, 'r-')\n",
    "ax.add_collection(linecoll)\n",
    "\n",
    "ax.legend([\"1000 shots\", \"2000 shots\", \"4000 shots\", \"8000 shots\", \"16000 shots\", \"Theoretical values\"], loc=\"lower right\")\n",
    "ax.set_xlabel(\"Number of shots\")\n",
    "ax.set_ylabel(\"Value of Re{<0|QFT|0>}\")\n",
    "\n",
    "plt.show()"
   ]
  },
  {
   "cell_type": "markdown",
   "id": "1b63a6f7-ea40-43fc-b071-25d2450abf60",
   "metadata": {},
   "source": [
    "# Conclusion\n",
    "We find that an increase in the number of shots results in the experimental answers approaching to the theoretical value. Thus, we can conclude that the huge number of shots yield higher accuracy."
   ]
  }
 ],
 "metadata": {
  "kernelspec": {
   "display_name": "Python 3 (ipykernel)",
   "language": "python",
   "name": "python3"
  },
  "language_info": {
   "codemirror_mode": {
    "name": "ipython",
    "version": 3
   },
   "file_extension": ".py",
   "mimetype": "text/x-python",
   "name": "python",
   "nbconvert_exporter": "python",
   "pygments_lexer": "ipython3",
   "version": "3.11.9"
  }
 },
 "nbformat": 4,
 "nbformat_minor": 5
}
