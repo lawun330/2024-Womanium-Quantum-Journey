{
 "cells": [
  {
   "cell_type": "markdown",
   "id": "848cc3df-1cb8-4f20-a96a-ff96aef8cd22",
   "metadata": {},
   "source": [
    "# Construction of a Non-Unitary Operator\n",
    "## Linear Combination of Unitaries\n",
    "by <a href=\"https://www.linkedin.com/in/la-wun-nannda-b047681b5/\">`La Wun Nannda`</a>"
   ]
  },
  {
   "cell_type": "markdown",
   "id": "fc247522-47ea-4cb6-96e2-c612cf450223",
   "metadata": {},
   "source": [
    "## Problem\n",
    "Apply the non-unitary matrix\n",
    "\\begin{pmatrix}\n",
    "1 & 0\\\\\n",
    "0 & 0\n",
    "\\end{pmatrix}\n",
    "on a 1-qubit quantum state which has a 0.3 probability being measured in the zero state $|0\\rangle$."
   ]
  },
  {
   "cell_type": "markdown",
   "id": "a0c60573-1d80-4a7e-857a-f4249cd243fc",
   "metadata": {},
   "source": [
    "## Solution\n",
    "## 1. Initial Qubit States\n",
    "According to the problem, we need to create a non-unitary matrix:\n",
    "$\\begin{pmatrix}\n",
    "1 & 0\\\\\n",
    "0 & 0\n",
    "\\end{pmatrix}$. Let's call that matrix $A$.\n",
    "\n",
    "Given $P(0)=0.3$, we know $P(1)=0.7$. \n",
    "- Our `initial state of the target qubit` or `psi` will be $|\\psi\\rangle=\\sqrt{0.3}|0\\rangle+\\sqrt{0.7}|1\\rangle$.\n",
    "- The `control qubit` is initiated as $|0\\rangle$.\n",
    "\n",
    "\n",
    "## 2. Obtain the Unitaries and Coefficients\n",
    "We know that a non-unitary matrix $A$ can be constructed by summing the unitary matrices with their respective coefficients (alpha values).\n",
    "\n",
    "$$A = \\sum_{i} \\alpha_iU_i$$\n",
    "\n",
    "$$I + Z =\n",
    "\\begin{pmatrix}\n",
    "1 & 0\\\\\n",
    "0 & 1\n",
    "\\end{pmatrix}\n",
    "+\n",
    "\\begin{pmatrix}\n",
    "1 & 0\\\\\n",
    "0 & -1\n",
    "\\end{pmatrix}=\n",
    "\\begin{pmatrix}\n",
    "2 & 0\\\\\n",
    "0 & 0\n",
    "\\end{pmatrix}$$\n",
    "\n",
    "$$\\frac{1}{2}(I + Z)=\n",
    "\\frac{1}{2} \\cdot\n",
    "\\begin{pmatrix}\n",
    "2 & 0\\\\\n",
    "0 & 0\n",
    "\\end{pmatrix}=\n",
    "\\begin{pmatrix}\n",
    "2/2 & 0\\\\\n",
    "0 & 0\n",
    "\\end{pmatrix}=\n",
    "\\begin{pmatrix}\n",
    "1 & 0\\\\\n",
    "0 & 0\n",
    "\\end{pmatrix}=A$$\n",
    "\n",
    "By using the equation $A = \\alpha_0I + \\alpha_1Z$, we know $\\alpha_0=\\alpha_1=\\frac{1}{2}$. So our equation is-\n",
    "\n",
    "$$A = \\frac{1}{2}I + \\frac{1}{2}Z$$\n",
    "\n",
    "\n",
    "## 3. Updated Qubit States\n",
    "Since both coefficients for two unitaries have the same value, they have the <b>same</b> `controller probability`.\n",
    "- The `control qubit` is $\\sqrt{0.5}|0\\rangle+\\sqrt{0.5}|1\\rangle$ before the <b>PREPARE'</b> part.\n",
    "- Recall that the `psi` is $|\\psi\\rangle=\\sqrt{0.3}|0\\rangle+\\sqrt{0.7}|1\\rangle$.\n",
    "\n",
    "\n",
    "## 4. Estimate Final Outcome\n",
    "When we apply $A$ on our qubit $|\\psi\\rangle$, we get $|\\psi'\\rangle$. \n",
    "\n",
    "$$|\\psi'\\rangle=\\frac{1}{\\lambda}A|\\psi\\rangle$$\n",
    "\n",
    "$\\frac{1}{\\lambda}$ is called the normalization factor and we will not consider that here to reduce complexity. Therefore, \n",
    "\n",
    "$$|\\psi'\\rangle=\n",
    "A|\\psi\\rangle= \n",
    "\\begin{pmatrix}\n",
    "1 & 0\\\\\n",
    "0 & 0\n",
    "\\end{pmatrix}\n",
    "\\times\n",
    "\\begin{pmatrix}\n",
    "0.3\\\\\n",
    "0.7\n",
    "\\end{pmatrix}=\n",
    "\\begin{pmatrix}\n",
    "0.3\\\\\n",
    "0\n",
    "\\end{pmatrix}$$\n",
    "\n",
    "This tells us that our `final qubit` should in the state 0. Mathematically, it is $|\\psi'\\rangle=\\sqrt{0.3}|0\\rangle$.\n",
    "\n",
    "\n",
    "## 5. Circuit Implementation\n",
    "When we build a circuit, the main <b>SELECT</b> component is implemented within two <b>PREPARE</b> circuits that cancel each other's effect in the end. \n",
    "1. The purpose of a <b>PREPARE</b> circuit is to prepare alpha values.\n",
    "2. The <b>SELECT</b> gate is constructed from the identity and Z gates."
   ]
  },
  {
   "cell_type": "markdown",
   "id": "339f8a9d-77ce-48d0-b227-c9422a448262",
   "metadata": {},
   "source": [
    "## 5.1. Prepare an Environment"
   ]
  },
  {
   "cell_type": "code",
   "execution_count": 1,
   "id": "42974bfd-73f7-491b-8007-ad6cc319b7bd",
   "metadata": {},
   "outputs": [],
   "source": [
    "# import libraries\n",
    "from classiq import *\n",
    "import matplotlib as mpl\n",
    "from matplotlib import pyplot as plt\n",
    "import numpy as np"
   ]
  },
  {
   "cell_type": "code",
   "execution_count": 2,
   "id": "b629ab31-84b3-48bf-a3fe-ad97fad24475",
   "metadata": {},
   "outputs": [
    {
     "name": "stderr",
     "output_type": "stream",
     "text": [
      "C:\\Users\\ASUS\\anaconda3\\envs\\qiskit_env\\Lib\\site-packages\\classiq\\_internals\\authentication\\token_manager.py:99: UserWarning: Device is already registered.\n",
      "Generating a new refresh token should only be done if the current refresh token is compromised.\n",
      "To do so, set the overwrite parameter to true\n",
      "  warnings.warn(\n"
     ]
    }
   ],
   "source": [
    "# initiate a session\n",
    "authenticate()"
   ]
  },
  {
   "cell_type": "markdown",
   "id": "e3048f48-90fd-467c-ba10-3e845d37a5a5",
   "metadata": {},
   "source": [
    "## 5.2. Implement Functions"
   ]
  },
  {
   "cell_type": "code",
   "execution_count": 3,
   "id": "67b21716-6fb4-4fbd-b633-6c5b67591941",
   "metadata": {},
   "outputs": [],
   "source": [
    "# a function for linear combination of unitaries\n",
    "@qfunc\n",
    "def lcu_controllers(controller: QNum, psi: QNum):\n",
    "    control(ctrl=controller == 0, operand=lambda: I(psi))\n",
    "\n",
    "    control(ctrl=controller == 1, operand=lambda: Z(psi))"
   ]
  },
  {
   "cell_type": "code",
   "execution_count": 4,
   "id": "93fd5840-1295-45e5-8c68-bff81608336f",
   "metadata": {},
   "outputs": [],
   "source": [
    "# the main function\n",
    "@qfunc\n",
    "def main(controller: Output[QNum], psi: Output[QNum]):\n",
    "\n",
    "    # Defining the error bound and probability distribution\n",
    "    error_bound = 0.01\n",
    "    psi_probabilities = [0.3, 0.7]\n",
    "    controller_probabilities = [0.5, 0.5]\n",
    "\n",
    "    # Allocating the target and control qubits, respectively\n",
    "    allocate(1, psi)\n",
    "    allocate(1, controller)\n",
    "\n",
    "    # prepare psi\n",
    "    inplace_prepare_state(probabilities=psi_probabilities, bound=error_bound, target=psi)\n",
    "    \n",
    "    # Executing the Within-Apply function, the SELECT function is defined by lcu_controllers and the PREPARE function is defined by the inplace_prepare_state function.\n",
    "    within_apply(\n",
    "        compute=lambda: inplace_prepare_state(probabilities=controller_probabilities, bound=error_bound, target=controller),\n",
    "        action=lambda: lcu_controllers(controller, psi),\n",
    "    )"
   ]
  },
  {
   "cell_type": "markdown",
   "id": "be5b1129-da20-49ec-be64-ab6d4ed63b2e",
   "metadata": {},
   "source": [
    "## 5.3. Build and Execute a Model"
   ]
  },
  {
   "cell_type": "code",
   "execution_count": 5,
   "id": "d8b1503c-3886-4183-8a3b-ad289e8949f7",
   "metadata": {},
   "outputs": [],
   "source": [
    "# create a model\n",
    "quantum_model = create_model(main)"
   ]
  },
  {
   "cell_type": "code",
   "execution_count": 6,
   "id": "ddc4215f-852e-47a5-a3f2-9b6731cf8ede",
   "metadata": {},
   "outputs": [],
   "source": [
    "# synthesize it\n",
    "quantum_program = synthesize(quantum_model)"
   ]
  },
  {
   "cell_type": "code",
   "execution_count": 7,
   "id": "f8d797f1-63f6-405f-882e-b4fc30ebc0e4",
   "metadata": {},
   "outputs": [
    {
     "name": "stdout",
     "output_type": "stream",
     "text": [
      "Opening: https://platform.classiq.io/circuit/2d2c4a22-873d-43d4-89bb-b87213a7fe9e?version=0.43.3\n"
     ]
    }
   ],
   "source": [
    "# display the program circuit\n",
    "show(quantum_program)"
   ]
  },
  {
   "cell_type": "markdown",
   "id": "7d231151-3c23-4a69-8659-f17a94b1a8e1",
   "metadata": {},
   "source": [
    "We will execute our program for 2048 shots."
   ]
  },
  {
   "cell_type": "code",
   "execution_count": 8,
   "id": "b647c466-61d8-4bd9-8499-a8e82dacca7b",
   "metadata": {},
   "outputs": [
    {
     "name": "stdout",
     "output_type": "stream",
     "text": [
      "[{'controller': 1.0, 'psi': 1.0}: 1452, {'controller': 0.0, 'psi': 0.0}: 596] \n",
      "\n"
     ]
    }
   ],
   "source": [
    "# execute the program\n",
    "job = execute(quantum_program)\n",
    "\n",
    "# store results\n",
    "result = job.result()[0].value # run with default shot=2048\n",
    "print(result.parsed_counts,'\\n')"
   ]
  },
  {
   "cell_type": "markdown",
   "id": "0035aac2-86d3-4b95-95c8-105da78ee173",
   "metadata": {},
   "source": [
    "## 5.4. Evaluate the Outcome"
   ]
  },
  {
   "cell_type": "code",
   "execution_count": 9,
   "id": "20309f92-d14b-4593-9a4e-332bc87fa443",
   "metadata": {
    "scrolled": true
   },
   "outputs": [
    {
     "data": {
      "text/plain": [
       "ExecutionDetails(vendor_format_result={}, counts={'00': 596, '11': 1452}, counts_lsb_right=True, parsed_states={'00': {'controller': 0.0, 'psi': 0.0}, '11': {'controller': 1.0, 'psi': 1.0}}, histogram=None, output_qubits_map={'controller': (0,), 'psi': (1,)}, state_vector=None, parsed_state_vector_states=None, physical_qubits_map={'controller': (1,), 'psi': (0,)}, num_shots=2048)"
      ]
     },
     "execution_count": 9,
     "metadata": {},
     "output_type": "execute_result"
    }
   ],
   "source": [
    "# check result\n",
    "result"
   ]
  },
  {
   "cell_type": "code",
   "execution_count": 10,
   "id": "2ff58797-e624-4798-b9f4-4d9cd5077838",
   "metadata": {},
   "outputs": [],
   "source": [
    "# prepare output data for a bar-graph\n",
    "shot = 2048 # default shot\n",
    "qubits = []\n",
    "counts = []\n",
    "for k in result.counts.keys():\n",
    "    qubits.append(k)\n",
    "for v in result.counts.values():\n",
    "    counts.append(v)\n",
    "probabilities = [c/shot for c in counts]"
   ]
  },
  {
   "cell_type": "code",
   "execution_count": 11,
   "id": "1dde0ff3-02be-4aa4-b456-9f08beb5ec5f",
   "metadata": {},
   "outputs": [
    {
     "data": {
      "text/plain": [
       "[0.291015625, 0.708984375]"
      ]
     },
     "execution_count": 11,
     "metadata": {},
     "output_type": "execute_result"
    }
   ],
   "source": [
    "# check probabilities\n",
    "probabilities"
   ]
  },
  {
   "cell_type": "code",
   "execution_count": 12,
   "id": "9ba9b955-0825-4bc4-a5da-0024b1c2d551",
   "metadata": {},
   "outputs": [
    {
     "data": {
      "image/png": "[encoded data removed]",
      "text/plain": [
       "<Figure size 640x480 with 1 Axes>"
      ]
     },
     "metadata": {},
     "output_type": "display_data"
    }
   ],
   "source": [
    "# display a bar-graph\n",
    "x = np.array(qubits)\n",
    "y = np.array(probabilities)\n",
    "plt.bar(x,y)\n",
    "plt.xlabel(\"Qubit\")\n",
    "plt.ylabel(\"Probabilities\")\n",
    "plt.show()"
   ]
  },
  {
   "cell_type": "markdown",
   "id": "5da47cb0-1739-410c-8c26-cac2ef12ef59",
   "metadata": {},
   "source": [
    "## 5.5. Post-Processing\n",
    "It seems like we have two results. But if we look at $|\\psi'\\rangle$, we know it is $\\sqrt{0.3}|0\\rangle$. Moreover, the control qubit must return to its initial value which is 0. So we choose `00` as our solution and discard anything else."
   ]
  },
  {
   "cell_type": "code",
   "execution_count": 13,
   "id": "a37dfcd5-40f8-43a4-b7f9-2237f24fccaf",
   "metadata": {},
   "outputs": [
    {
     "data": {
      "image/png": "[encoded data removed]",
      "text/plain": [
       "<Figure size 640x480 with 1 Axes>"
      ]
     },
     "metadata": {},
     "output_type": "display_data"
    }
   ],
   "source": [
    "# display a bar-graph\n",
    "x = np.array(qubits[0])\n",
    "y = np.array(probabilities[0])\n",
    "plt.bar(x,y)\n",
    "plt.xlabel(\"Qubit\")\n",
    "plt.ylabel(\"Probabilities\")\n",
    "plt.show()"
   ]
  },
  {
   "cell_type": "markdown",
   "id": "5007cac9-b2dc-4d36-bdd5-811513e99008",
   "metadata": {},
   "source": [
    "## 6. Conclusion\n",
    "### Expectation\n",
    "The control qubit is initiated as 0, goes through some transformations, and returns back to `0` because of the <b>PREPARE</b> and <b>PREPARE'</b> circuits. The final target qubit $|\\psi'\\rangle$ should be `0` according to above calculations.\n",
    "### Outcome\n",
    "From our bar-graph, we know that we get `00` with 30% probability for executions. This is consistent with our mathematical evaluation. The value `00` is also what we expect for the control and target qubits. Therefore, we can conclude that our output is what we expected. We have successfully implemented a non-unitary matrix $A$."
   ]
  }
 ],
 "metadata": {
  "kernelspec": {
   "display_name": "Python 3 (ipykernel)",
   "language": "python",
   "name": "python3"
  },
  "language_info": {
   "codemirror_mode": {
    "name": "ipython",
    "version": 3
   },
   "file_extension": ".py",
   "mimetype": "text/x-python",
   "name": "python",
   "nbconvert_exporter": "python",
   "pygments_lexer": "ipython3",
   "version": "3.11.9"
  }
 },
 "nbformat": 4,
 "nbformat_minor": 5
}
