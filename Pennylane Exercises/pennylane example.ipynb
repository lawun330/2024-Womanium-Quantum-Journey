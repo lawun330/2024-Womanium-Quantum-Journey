{
 "cells": [
  {
   "cell_type": "markdown",
   "id": "6f48c39b-9a86-49c7-affa-24de591ca01c",
   "metadata": {},
   "source": [
    "# PennyLane Example\n",
    "\n",
    "To create a quantum machine learning program in PennyLane you need to:\n",
    "\n",
    "1. Define a device including the device type and the number of wires.\n",
    "2. Define your quantum circuit (QNode).\n",
    "3. Define pre-/postprocessing (such as a neural network). (Optional)\n",
    "4. Define a cost function which takes in your quantum circuit and your neural network (if you have one).\n",
    "5. Perform the optimization 1. Choose an optimizer. 2. Choose a step size. 3. Make an initial guess for the value of your parameters. 4. Iterate over a number of defined steps.\n",
    "6. Enjoy your results by printing or graphing them! This is how this algorithm would look on PennyLane v0.18.0:"
   ]
  },
  {
   "cell_type": "code",
   "execution_count": 1,
   "id": "7d208ebb-83f7-4e7b-8fda-ca256140d1b2",
   "metadata": {},
   "outputs": [],
   "source": [
    "# In this program we will train a circuit to model a sine function\n",
    "\n",
    "# We import the necessary libraries\n",
    "import pennylane as qml\n",
    "from pennylane import numpy as np\n",
    "import matplotlib.pyplot as plt"
   ]
  },
  {
   "cell_type": "code",
   "execution_count": 2,
   "id": "0b2cea28-da68-4add-824b-123e635a83cd",
   "metadata": {},
   "outputs": [],
   "source": [
    "# We create the training Data\n",
    "X = np.linspace(0, 2*np.pi, 5) # 5 input datapoints from 0 to 2pi\n",
    "# We tell the optimizer that this is an input datapoint,\n",
    "# and not a parameter to optimize over.\n",
    "X.requires_grad = False\n",
    "Y = np.sin(X) # The outputs for the input datapoints\n",
    "\n",
    "# We create the test Data\n",
    "# 5 test datapoints, shifted from the training data by 0.2\n",
    "# Since we're not optimizing over the test data we\n",
    "# don't need to specify requires_grad = False\n",
    "X_test = np.linspace(0.2, 2*np.pi+0.2, 5)\n",
    "Y_test = np.sin(X_test) # The outputs for the test datapoints"
   ]
  },
  {
   "cell_type": "code",
   "execution_count": 3,
   "id": "d5deb2a1-0e46-41d9-8281-98f5048b26fb",
   "metadata": {},
   "outputs": [],
   "source": [
    "# Step 1 - Create the device\n",
    "# Here we use the 'default.qubit' simulator and 1 qubit (wires=1)\n",
    "dev = qml.device('default.qubit', wires=1)"
   ]
  },
  {
   "cell_type": "code",
   "execution_count": 4,
   "id": "25312ae0-ea3d-4d85-b309-11519af4ea77",
   "metadata": {},
   "outputs": [],
   "source": [
    "# Step 2 - Create the quantum circuit\n",
    "@qml.qnode(dev)\n",
    "def quantum_circuit(datapoint, params):\n",
    "    # Encode the input data as an RX rotation\n",
    "    qml.RX(datapoint, wires=0)\n",
    "    # Create a rotation based on the angles in \"params\"\n",
    "    qml.Rot(params[0], params[1], params[2], wires=0)\n",
    "    # We return the expected value of a measurement along the Z axis\n",
    "    return qml.expval(qml.PauliZ(wires=0))"
   ]
  },
  {
   "cell_type": "code",
   "execution_count": 5,
   "id": "f8de173c-81c5-4c66-b2d0-3f940cb25311",
   "metadata": {},
   "outputs": [],
   "source": [
    "# Step 3 - Classical Pre/Postprocessing\n",
    "def loss_func(predictions):\n",
    "    # This is a postprocessing step. Here we use a least squares metric\n",
    "    # based on the predictions of the quantum circuit and the outputs\n",
    "    # of the training data points.\n",
    "\n",
    "    total_losses = 0\n",
    "    for i in range(len(Y)):\n",
    "        output = Y[i]\n",
    "        prediction = predictions[i]\n",
    "        loss = (prediction - output)**2\n",
    "        total_losses += loss\n",
    "    return total_losses"
   ]
  },
  {
   "cell_type": "code",
   "execution_count": 6,
   "id": "768c93f8-f3ce-476c-a0fe-76604ba0289c",
   "metadata": {},
   "outputs": [],
   "source": [
    "# Step 4 - Define your cost function, including any classical pre/postprocessing\n",
    "def cost_fn(params):\n",
    "    # We get the predictions of the quantum circuit for a specific\n",
    "    # set of parameters along the entire input dataset\n",
    "    predictions = [quantum_circuit(x, params)  for x in X]\n",
    "    # We calculate the cost including any classical postprocessing\n",
    "    cost = loss_func(predictions)\n",
    "    return cost"
   ]
  },
  {
   "cell_type": "code",
   "execution_count": 7,
   "id": "077881ed-037c-4fb9-8512-1d60a7362889",
   "metadata": {},
   "outputs": [
    {
     "name": "stdout",
     "output_type": "stream",
     "text": [
      "Step = 0 Cost = 4.912499465469817\n",
      "Step = 10 Cost = 0.0177126162647139\n",
      "Step = 20 Cost = 0.0010549650559467363\n",
      "Step = 30 Cost = 0.0003347839091824907\n",
      "Step = 40 Cost = 0.00019081038150773556\n",
      "Step = 50 Cost = 0.00012461609775915453\n",
      "Step = 60 Cost = 8.781349557163276e-05\n",
      "Step = 70 Cost = 6.522398226889262e-05\n",
      "Step = 80 Cost = 5.0362401887345095e-05\n",
      "Step = 90 Cost = 4.006386705383938e-05\n"
     ]
    }
   ],
   "source": [
    "# Steps 5.1 and 5.2  - We define the optimizer\n",
    "opt = qml.GradientDescentOptimizer(stepsize=0.3)\n",
    "\n",
    "# Step 5.3 We make an initial guess for the parameters\n",
    "params = np.array([0.1,0.1,0.1],requires_grad=True)\n",
    "\n",
    "# Step 5.4 - We iterate over a number of defined steps (100)\n",
    "for i in range (100):\n",
    "    # Over each step the parameters change to give a better cost\n",
    "    params, prev_cost = opt.step_and_cost(cost_fn,params)\n",
    "    if i%10 == 0:\n",
    "         # We print the result after every 10 steps\n",
    "        print(f'Step = {i} Cost = {cost_fn(params)}')"
   ]
  },
  {
   "cell_type": "code",
   "execution_count": 8,
   "id": "89221681-4b84-4615-a0a0-f6cfa518851a",
   "metadata": {},
   "outputs": [
    {
     "data": {
      "image/png": "[encoded data removed]",
      "text/plain": [
       "<Figure size 640x480 with 1 Axes>"
      ]
     },
     "metadata": {},
     "output_type": "display_data"
    }
   ],
   "source": [
    "# Step 6 - Test and graph your results!\n",
    "test_predictions = []\n",
    "for x_test in X_test:\n",
    "    prediction = quantum_circuit(x_test,params)\n",
    "    test_predictions.append(prediction)\n",
    "\n",
    "fig = plt.figure()\n",
    "ax1 = fig.add_subplot(111)\n",
    "\n",
    "ax1.scatter(X, Y, s=30, c='b', marker=\"s\", label='Train outputs')\n",
    "ax1.scatter(X_test,Y_test, s=60, c='r', marker=\"o\", label='Test outputs')\n",
    "ax1.scatter(X_test,test_predictions, s=30, c='k', marker=\"x\", label='Test predicitons')\n",
    "plt.xlabel(\"Inputs\")\n",
    "plt.ylabel(\"Outputs\")\n",
    "plt.title(\"QML results\")\n",
    "\n",
    "plt.legend(loc='upper right');\n",
    "plt.show()"
   ]
  }
 ],
 "metadata": {
  "kernelspec": {
   "display_name": "Python 3 (ipykernel)",
   "language": "python",
   "name": "python3"
  },
  "language_info": {
   "codemirror_mode": {
    "name": "ipython",
    "version": 3
   },
   "file_extension": ".py",
   "mimetype": "text/x-python",
   "name": "python",
   "nbconvert_exporter": "python",
   "pygments_lexer": "ipython3",
   "version": "3.11.9"
  }
 },
 "nbformat": 4,
 "nbformat_minor": 5
}
