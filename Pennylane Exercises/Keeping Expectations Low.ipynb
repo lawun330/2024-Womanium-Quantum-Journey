{
 "cells": [
  {
   "cell_type": "markdown",
   "id": "c5b647cb-2fd9-424d-99bd-b698cacd6477",
   "metadata": {},
   "source": [
    "# Keeping Expectations Low\n",
    "The link of this challenge is https://pennylane.ai/challenges/keeping_expectations_low/"
   ]
  },
  {
   "cell_type": "markdown",
   "id": "1842f860-2f8f-468f-80f9-56e255b4781a",
   "metadata": {},
   "source": [
    "## Initial Preparation"
   ]
  },
  {
   "cell_type": "code",
   "execution_count": 1,
   "id": "d220e8d3-d53a-4d7b-8f19-5a2f51563685",
   "metadata": {},
   "outputs": [],
   "source": [
    "# import libraries\n",
    "import json\n",
    "import pennylane as qml\n",
    "import pennylane.numpy as np"
   ]
  },
  {
   "cell_type": "code",
   "execution_count": 2,
   "id": "3e066b7d-5f17-4011-8f49-073eea69e638",
   "metadata": {},
   "outputs": [],
   "source": [
    "WIRES = 2\n",
    "LAYERS = 5\n",
    "NUM_PARAMETERS = LAYERS * WIRES * 3\n",
    "\n",
    "initial_params = np.random.random(NUM_PARAMETERS)\n",
    "\n",
    "def variational_circuit(params,hamiltonian):\n",
    "    \"\"\"\n",
    "    This is a template variational quantum circuit containing a fixed layout of gates with variable\n",
    "    parameters. To be used as a QNode, it must either be wrapped with the @qml.qnode decorator or\n",
    "    converted using the qml.QNode function.\n",
    "\n",
    "    The output of this circuit is the expectation value of a Hamiltonian, somehow encoded in\n",
    "    the hamiltonian argument\n",
    "\n",
    "    Args:\n",
    "        - params (np.ndarray): An array of optimizable parameters of shape (30,)\n",
    "        - hamiltonian (np.ndarray): An array of real parameters encoding the Hamiltonian\n",
    "        whose expectation value is returned.\n",
    "    \n",
    "    Returns:\n",
    "        (float): The expectation value of the Hamiltonian\n",
    "    \"\"\"\n",
    "    parameters = params.reshape((LAYERS, WIRES, 3))\n",
    "    qml.templates.StronglyEntanglingLayers(parameters, wires=range(WIRES))\n",
    "    return qml.expval(qml.Hermitian(hamiltonian, wires = [0,1]))"
   ]
  },
  {
   "cell_type": "markdown",
   "id": "e3afeb33-44b4-4cf2-92f8-620dab357b79",
   "metadata": {},
   "source": [
    "## Real Implementation"
   ]
  },
  {
   "cell_type": "code",
   "execution_count": 3,
   "id": "ad958645-1370-44a1-b951-c28d2adcac72",
   "metadata": {},
   "outputs": [],
   "source": [
    "def optimize_circuit(params,hamiltonian):\n",
    "    \"\"\"Minimize the variational circuit and return its minimum value.\n",
    "    You should create a device and convert the variational_circuit function \n",
    "    into an executable QNode. \n",
    "    Next, you should minimize the variational circuit using gradient-based \n",
    "    optimization to update the input params. \n",
    "    Return the optimized value of the QNode as a single floating-point number.\n",
    "\n",
    "    Args:\n",
    "        - params (np.ndarray): Input parameters to be optimized, of dimension 30\n",
    "        - hamiltonian (np.ndarray): An array of real parameters encoding the Hamiltonian\n",
    "        whose expectation value you should minimize.\n",
    "    Returns:\n",
    "        float: the value of the optimized QNode\n",
    "    \"\"\"\n",
    "    dev = qml.device('default.qubit', wires=2) # Initialize the device.\n",
    "\n",
    "    circuit = qml.QNode(variational_circuit, dev) # Instantiate the QNode from variational_circuit.\n",
    "\n",
    "    # Write your code to minimize the circuit\n",
    "    opt = qml.GradientDescentOptimizer(stepsize=0.3)\n",
    "    for i in range (100):\n",
    "        [params, hamiltonian], prev_cost = opt.step_and_cost(circuit, params, hamiltonian)\n",
    "        if i%10 == 0:\n",
    "            print(f'Step = {i} Cost = {circuit(params, hamiltonian)}')\n",
    "        \n",
    "    return circuit(params, hamiltonian) # Return the value of the minimized QNode"
   ]
  },
  {
   "cell_type": "markdown",
   "id": "f7c6eb00-8e24-478d-8ad3-385b61d0a798",
   "metadata": {},
   "source": [
    "## Testing the Solution"
   ]
  },
  {
   "cell_type": "code",
   "execution_count": 4,
   "id": "54d8f0ff-3d3c-4c20-9988-9278d7730029",
   "metadata": {},
   "outputs": [],
   "source": [
    "# These functions are responsible for testing the solution.\n",
    "def run(test_case_input: str) -> str:\n",
    "       \n",
    "    ins = np.array(json.loads(test_case_input), requires_grad = False)\n",
    "    hamiltonian = np.array(ins,float).reshape((2 ** WIRES), (2 ** WIRES))\n",
    "    np.random.seed(1967)\n",
    "    initial_params = np.random.random(NUM_PARAMETERS)\n",
    "    out = str(optimize_circuit(initial_params,hamiltonian))    \n",
    "    \n",
    "    return out\n",
    "\n",
    "\n",
    "def check(solution_output: str, expected_output: str) -> None:\n",
    "    solution_output = json.loads(solution_output)\n",
    "    expected_output = json.loads(expected_output)\n",
    "    assert np.isclose(solution_output, expected_output, rtol=5e-2)"
   ]
  },
  {
   "cell_type": "code",
   "execution_count": 5,
   "id": "c6c573d6-ab9b-4f5c-a4f6-7f24d1e54beb",
   "metadata": {},
   "outputs": [],
   "source": [
    "# These are the public test cases\n",
    "test_cases = [\n",
    "    ('[0.863327072347624,0.0167108057202516,0.07991447085492759,0.0854049026262154,0.0167108057202516,0.8237963773906136,-0.07695947154193797,0.03131548733285282,0.07991447085492759,-0.07695947154193795,0.8355417021014687,-0.11345916130631205,0.08540490262621539,0.03131548733285283,-0.11345916130631205,0.758156886827099]', '0.61745341'),\n",
    "    ('[0.32158897156285354,-0.20689268438270836,0.12366748295758379,-0.11737425017261123,-0.20689268438270836,0.7747346055276305,-0.05159966365446514,0.08215539696259792,0.12366748295758379,-0.05159966365446514,0.5769050487087416,0.3853362904758938,-0.11737425017261123,0.08215539696259792,0.3853362904758938,0.3986256655167206]', '0.00246488')\n",
    "]"
   ]
  },
  {
   "cell_type": "code",
   "execution_count": 6,
   "id": "db0e5add-b0ee-461e-8649-e0e61865b0b1",
   "metadata": {},
   "outputs": [
    {
     "name": "stdout",
     "output_type": "stream",
     "text": [
      "Running test case 0 with input '[0.863327072347624,0.0167108057202516,0.07991447085492759,0.0854049026262154,0.0167108057202516,0.8237963773906136,-0.07695947154193797,0.03131548733285282,0.07991447085492759,-0.07695947154193795,0.8355417021014687,-0.11345916130631205,0.08540490262621539,0.03131548733285283,-0.11345916130631205,0.758156886827099]'...\n",
      "Step = 0 Cost = 0.8939143908495337\n",
      "Step = 10 Cost = 0.8042746065397466\n",
      "Step = 20 Cost = 0.7320495673885838\n",
      "Step = 30 Cost = 0.674620636503563\n",
      "Step = 40 Cost = 0.6394591588912458\n",
      "Step = 50 Cost = 0.6248060063582683\n",
      "Step = 60 Cost = 0.6198387656577072\n",
      "Step = 70 Cost = 0.6182529624588357\n",
      "Step = 80 Cost = 0.6177402744129845\n",
      "Step = 90 Cost = 0.6175662104205716\n",
      "Correct!\n",
      "Running test case 1 with input '[0.32158897156285354,-0.20689268438270836,0.12366748295758379,-0.11737425017261123,-0.20689268438270836,0.7747346055276305,-0.05159966365446514,0.08215539696259792,0.12366748295758379,-0.05159966365446514,0.5769050487087416,0.3853362904758938,-0.11737425017261123,0.08215539696259792,0.3853362904758938,0.3986256655167206]'...\n",
      "Step = 0 Cost = 0.24772702996269114\n",
      "Step = 10 Cost = 0.010326134069645925\n",
      "Step = 20 Cost = 0.0036537716387035\n",
      "Step = 30 Cost = 0.00265133226216441\n",
      "Step = 40 Cost = 0.0024940173038677164\n",
      "Step = 50 Cost = 0.002469426001103903\n",
      "Step = 60 Cost = 0.002465589629713069\n",
      "Step = 70 Cost = 0.0024649915991019756\n",
      "Step = 80 Cost = 0.002464898403046523\n",
      "Step = 90 Cost = 0.0024648838812042365\n",
      "Correct!\n"
     ]
    }
   ],
   "source": [
    "# This will run the public test cases locally\n",
    "for i, (input_, expected_output) in enumerate(test_cases):\n",
    "    print(f\"Running test case {i} with input '{input_}'...\")\n",
    "\n",
    "    try:\n",
    "        output = run(input_)\n",
    "\n",
    "    except Exception as exc:\n",
    "        print(f\"Runtime Error. {exc}\")\n",
    "\n",
    "    else:\n",
    "        if message := check(output, expected_output):\n",
    "            print(f\"Wrong Answer. Have: '{output}'. Want: '{expected_output}'.\")\n",
    "\n",
    "        else:\n",
    "            print(\"Correct!\")"
   ]
  }
 ],
 "metadata": {
  "kernelspec": {
   "display_name": "Python 3 (ipykernel)",
   "language": "python",
   "name": "python3"
  },
  "language_info": {
   "codemirror_mode": {
    "name": "ipython",
    "version": 3
   },
   "file_extension": ".py",
   "mimetype": "text/x-python",
   "name": "python",
   "nbconvert_exporter": "python",
   "pygments_lexer": "ipython3",
   "version": "3.11.9"
  }
 },
 "nbformat": 4,
 "nbformat_minor": 5
}
